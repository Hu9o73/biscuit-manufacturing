{
 "cells": [
  {
   "cell_type": "markdown",
   "metadata": {},
   "source": [
    "# Biscuit Manufacturing\n",
    "\n",
    "## Utils imports"
   ]
  },
  {
   "cell_type": "code",
   "execution_count": 63,
   "metadata": {},
   "outputs": [
    {
     "name": "stdout",
     "output_type": "stream",
     "text": [
      "The autoreload extension is already loaded. To reload it, use:\n",
      "  %reload_ext autoreload\n"
     ]
    }
   ],
   "source": [
    "from Utils import CSPRequirements as cspr\n",
    "from Utils import dataImport as di\n",
    "import matplotlib.pyplot as plt\n",
    "\n",
    "%load_ext autoreload\n",
    "%autoreload 2"
   ]
  },
  {
   "cell_type": "markdown",
   "metadata": {},
   "source": [
    "## First experiment : \"Brutforce\"-like backtrack\n",
    "\n",
    "In this first test, we're trying all possible combinations using backtracking. This technique takes a gigantic amount of steps to iterate through all possible roll that respect the intial constraints:\n",
    "\n",
    "- No overlap\n",
    "- Total biscuit length <= roll length\n",
    "- Biscuit placements respect the defects thresholds\n",
    "\n",
    "Technically it can work, to prove so, we'll imagine our roll is only 50 units long, to prove that we get an optimized result. Limiting to 50 lowers the computation time to something feasble. \n",
    "\n",
    "After proving this basic technique works, we'll try to implements heursitics and other conditions to limit the exploration and amount of steps to find a solution."
   ]
  },
  {
   "cell_type": "code",
   "execution_count": 92,
   "metadata": {},
   "outputs": [
    {
     "name": "stdout",
     "output_type": "stream",
     "text": [
      "Length of the roll:  50\n"
     ]
    }
   ],
   "source": [
    "roll_length = 50\n",
    "\n",
    "# Biscuit thresholds\n",
    "biscuit_thresholds = {\n",
    "    0: {'size': 4, 'a': 4, 'b': 2, 'c': 3, 'value': 3},\n",
    "    1: {'size': 8, 'a': 5, 'b': 4, 'c': 4, 'value': 12},\n",
    "    2: {'size': 2, 'a': 1, 'b': 2, 'c': 1, 'value': 1},\n",
    "    3: {'size': 5, 'a': 2, 'b': 3, 'c': 2, 'value': 8}\n",
    "}\n",
    "\n",
    "# Initialize roll and defect data\n",
    "roll = di.build_roll(di.importDefects(\"defects.csv\"), roll_length)\n",
    "problem = cspr.BiscuitProblem(name=\"BiscuitOptimization\", rollLength=roll_length, defect_data=roll, biscuit_thresholds=biscuit_thresholds)\n",
    "\n",
    "print(\"Length of the roll: \", len(problem.roll))\n",
    "problem.backtrack()"
   ]
  },
  {
   "cell_type": "markdown",
   "metadata": {},
   "source": [
    "We can extract the best value for our roll (that respects all the constraints) and the corresponding roll"
   ]
  },
  {
   "cell_type": "code",
   "execution_count": 113,
   "metadata": {},
   "outputs": [
    {
     "name": "stdout",
     "output_type": "stream",
     "text": [
      "76\n",
      "[1, 1, 1, 1, 1, 1, 1, 1, 1, 1, 1, 1, 1, 1, 1, 1, 1, 1, 1, 1, 1, 1, 1, 1, 3, 3, 3, 3, 3, 1, 1, 1, 1, 1, 1, 1, 1, 3, 3, 3, 3, 3, 1, 1, 1, 1, 1, 1, 1, 1]\n"
     ]
    }
   ],
   "source": [
    "bestValue1 = problem.bestValue\n",
    "bestRoll1 = problem.bestRoll\n",
    "stepsTaken1 = problem.step\n",
    "\n",
    "print(problem.bestValue)\n",
    "print(problem.bestRoll)"
   ]
  },
  {
   "cell_type": "markdown",
   "metadata": {},
   "source": [
    "### Plot\n",
    "\n",
    "To have a better idea of what our backtracking algorithm did, let's see how the best value evolved:"
   ]
  },
  {
   "cell_type": "code",
   "execution_count": 94,
   "metadata": {},
   "outputs": [
    {
     "data": {
      "text/plain": [
       "[<matplotlib.lines.Line2D at 0x1eefb78e2d0>]"
      ]
     },
     "execution_count": 94,
     "metadata": {},
     "output_type": "execute_result"
    },
    {
     "data": {
      "image/png": "[encoded data removed]",
      "text/plain": [
       "<Figure size 640x480 with 1 Axes>"
      ]
     },
     "metadata": {},
     "output_type": "display_data"
    }
   ],
   "source": [
    "bestValues = []\n",
    "bestValuesRank = []\n",
    "\n",
    "for x in problem.bestValues:\n",
    "    bestValues.append(x[0])\n",
    "    bestValuesRank.append(x[1])\n",
    "\n",
    "plt.plot(bestValuesRank, bestValues)"
   ]
  },
  {
   "cell_type": "markdown",
   "metadata": {},
   "source": [
    "## Improving the solution : Parallelization\n",
    "\n",
    "This is great ! Our algorithm works. But not optimized enough to give us solutions for greater roll length values in our lifespan. Let's try and optimize this.\n",
    "\n",
    "Parallelizing tasks can help reduce global complexity. For instance: there are 2,656,615,626 combinations (with repetition) of 500 elements among 5 items (here, our biscuits (0,1,2,3) and \"None\". Note: this doesn't take into acount our constraints).\n",
    "\n",
    "If we split the 500 items list into two 250 items list, we have 2 lists of 169,362,501 possible combinations. Thus a total of 338,725,002 states to explore.\n",
    "\n",
    "if we further split our \"main list\", in for instance, 10 sub-lists (bins) of 50 elements. There are only 316,251 combinations of 5 elements among 50 items. Thus, a total of 3,162,510 states to explore. \n",
    "\n",
    "This technique would give us 10 optimized lists. We can suppose that the combination of these optimized sub-lists can yield a fair approximation of the best result in a more than reasonable amount of time.\n",
    "\n",
    "### Python implementation\n"
   ]
  },
  {
   "cell_type": "code",
   "execution_count": null,
   "metadata": {},
   "outputs": [],
   "source": [
    "def parallel_solver(roll_length, n_split):\n",
    "    roll = di.build_roll(di.importDefects(\"defects.csv\"), roll_length)\n",
    "    sub_rolls = di.split_roll(roll, n_split)\n",
    "\n",
    "    bestValues = []\n",
    "    bestRolls = []\n",
    "    stepsTakenList = []\n",
    "\n",
    "    for i in range(n_split):\n",
    "        print(\"Processing sub_roll : \", i)\n",
    "        problem = cspr.BiscuitProblem(name=\"BiscuitOptimization\", rollLength=len(sub_rolls[i]), defect_data=sub_rolls[i], biscuit_thresholds=biscuit_thresholds)\n",
    "        problem.backtrack()\n",
    "        bestValues.append(problem.bestValue)\n",
    "        bestRolls.append(problem.bestRoll)\n",
    "        stepsTakenList.append(problem.step)\n",
    "\n",
    "    \n",
    "    bestRoll = di.build_back_roll(bestRolls)\n",
    "\n",
    "    bestValue = 0\n",
    "    for value in bestValues:\n",
    "        bestValue += value\n",
    "\n",
    "    stepsTaken = 0\n",
    "    for value in stepsTakenList:\n",
    "        stepsTaken += value\n",
    "\n",
    "    print(\"Finished parallel solve\")\n",
    "    return bestValue, bestRoll, stepsTaken"
   ]
  },
  {
   "cell_type": "markdown",
   "metadata": {},
   "source": [
    "### Comparing results to the previous solve"
   ]
  },
  {
   "cell_type": "code",
   "execution_count": 114,
   "metadata": {},
   "outputs": [
    {
     "name": "stdout",
     "output_type": "stream",
     "text": [
      "Processing sub_roll :  0\n",
      "Processing sub_roll :  1\n",
      "Finished parallel solve\n"
     ]
    }
   ],
   "source": [
    "bestValue2, bestRoll2, stepsTaken2 = parallel_solver(50, 2)"
   ]
  },
  {
   "cell_type": "code",
   "execution_count": 115,
   "metadata": {},
   "outputs": [
    {
     "name": "stdout",
     "output_type": "stream",
     "text": [
      "No parallel Stats :\n",
      "- Roll value:  76 \n",
      "- Steps taken:  1886598 \n",
      "\n",
      "Parallel solve stats :\n",
      "- Roll value:  73 \n",
      "- Steps taken:  992\n"
     ]
    }
   ],
   "source": [
    "print(\"No parallel Stats :\\n- Roll value: \", bestValue1, \"\\n- Steps taken: \", stepsTaken1, \"\\n\\nParallel solve stats :\\n- Roll value: \", bestValue2, \"\\n- Steps taken: \", stepsTaken2)"
   ]
  },
  {
   "cell_type": "markdown",
   "metadata": {},
   "source": [
    "For a value **4% off** the best value, we saved **1901% of the computation time.**\n",
    "\n",
    "### Getting a first approximation for the 500 units long roll"
   ]
  },
  {
   "cell_type": "code",
   "execution_count": 122,
   "metadata": {},
   "outputs": [
    {
     "name": "stdout",
     "output_type": "stream",
     "text": [
      "Processing sub_roll :  0\n",
      "Processing sub_roll :  1\n",
      "Processing sub_roll :  2\n",
      "Processing sub_roll :  3\n",
      "Processing sub_roll :  4\n",
      "Processing sub_roll :  5\n",
      "Processing sub_roll :  6\n",
      "Processing sub_roll :  7\n",
      "Processing sub_roll :  8\n",
      "Processing sub_roll :  9\n",
      "Processing sub_roll :  10\n",
      "Processing sub_roll :  11\n",
      "Processing sub_roll :  12\n",
      "Finished parallel solve\n"
     ]
    }
   ],
   "source": [
    "bestValue3, bestRoll3, stepsTaken3 = parallel_solver(500, 13)"
   ]
  },
  {
   "cell_type": "markdown",
   "metadata": {},
   "source": [
    "Splitting in 13 rolls gives a good in-between computation time / splits. (We want as few splits as possible to get as close as possible to the actual solution). "
   ]
  },
  {
   "cell_type": "code",
   "execution_count": 123,
   "metadata": {},
   "outputs": [
    {
     "name": "stdout",
     "output_type": "stream",
     "text": [
      "Parallel 500 solve stats :\n",
      "- Roll value:  758 \n",
      "- Steps taken:  1171889\n"
     ]
    }
   ],
   "source": [
    "print(\"Parallel 500 solve stats :\\n- Roll value: \", bestValue3, \"\\n- Steps taken: \", stepsTaken3)"
   ]
  },
  {
   "cell_type": "markdown",
   "metadata": {},
   "source": [
    "We now have a base result approximation to compare other algorithms we'll implement !"
   ]
  }
 ],
 "metadata": {
  "kernelspec": {
   "display_name": "base",
   "language": "python",
   "name": "python3"
  },
  "language_info": {
   "codemirror_mode": {
    "name": "ipython",
    "version": 3
   },
   "file_extension": ".py",
   "mimetype": "text/x-python",
   "name": "python",
   "nbconvert_exporter": "python",
   "pygments_lexer": "ipython3",
   "version": "3.11.8"
  }
 },
 "nbformat": 4,
 "nbformat_minor": 2
}
